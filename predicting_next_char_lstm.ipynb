{
  "cells": [
    {
      "cell_type": "code",
      "execution_count": 2,
      "metadata": {
        "id": "vFs-rmNl_zh8"
      },
      "outputs": [],
      "source": [
        "import numpy as np\n",
        "from keras.models import Sequential\n",
        "from keras.layers import Dense\n",
        "from keras.layers import LSTM\n",
        "from keras.utils import np_utils\n",
        "from keras.preprocessing.sequence import pad_sequences\n",
        "np.random.seed(0)"
      ]
    },
    {
      "cell_type": "code",
      "execution_count": 3,
      "metadata": {
        "id": "yfzpO9c-_9Ui"
      },
      "outputs": [],
      "source": [
        "alphabet = \"ABCDEFGHIJKLMNOPQRSTUVWXYZ\"\n",
        "# character mappings\n",
        "char_to_int = dict((c, i) for i, c in enumerate(alphabet))\n",
        "int_to_char = dict((i, c) for i, c in enumerate(alphabet))"
      ]
    },
    {
      "cell_type": "code",
      "execution_count": 16,
      "metadata": {
        "colab": {
          "base_uri": "https://localhost:8080/"
        },
        "id": "RZFCK_72AQ58",
        "outputId": "ab6f6c81-64f7-45d7-c36d-91aeeff2e656"
      },
      "outputs": [
        {
          "name": "stdout",
          "output_type": "stream",
          "text": [
            "A 0\n",
            "B 1\n",
            "C 2\n",
            "D 3\n",
            "E 4\n",
            "F 5\n",
            "G 6\n"
          ]
        }
      ],
      "source": [
        "# printing 5 values in char_to_int dictionary\n",
        "for key,val in  char_to_int.items():\n",
        "  print(key , val)\n",
        "  if val >5:\n",
        "    break\n"
      ]
    },
    {
      "cell_type": "code",
      "execution_count": 17,
      "metadata": {
        "colab": {
          "base_uri": "https://localhost:8080/"
        },
        "id": "scigwPrXASh8",
        "outputId": "4ae41771-67e7-42aa-fb9d-74c09d6a04fe"
      },
      "outputs": [
        {
          "name": "stdout",
          "output_type": "stream",
          "text": [
            "0 A\n",
            "1 B\n",
            "2 C\n",
            "3 D\n",
            "4 E\n",
            "5 F\n",
            "6 G\n"
          ]
        }
      ],
      "source": [
        "# printing 5 values in int_to_char dictionary\n",
        "for key,val in  int_to_char.items():\n",
        "  print(key , val)\n",
        "  if key >5:\n",
        "    break"
      ]
    },
    {
      "cell_type": "code",
      "execution_count": 28,
      "metadata": {
        "colab": {
          "base_uri": "https://localhost:8080/"
        },
        "id": "CcY7eQg7Am6s",
        "outputId": "480ca0ec-a78d-40ad-be4c-642d83cb7969"
      },
      "outputs": [
        {
          "data": {
            "text/plain": [
              "['LMN->O',\n",
              " 'WXY->Z',\n",
              " 'IJKL->M',\n",
              " 'ABCDE->F',\n",
              " 'VWXY->Z',\n",
              " 'OP->Q',\n",
              " 'DEF->G',\n",
              " 'W->X',\n",
              " 'W->X',\n",
              " 'UVWXY->Z']"
            ]
          },
          "execution_count": 28,
          "metadata": {},
          "output_type": "execute_result"
        }
      ],
      "source": [
        "# prepare the dataset of input to output pairs encoded as integers\n",
        "num_inputs = 1000\n",
        "max_len = 5\n",
        "dataX = []\n",
        "dataY = []\n",
        "seq=[]\n",
        "for i in range(num_inputs):\n",
        "    start = np.random.randint(len(alphabet)-2)\n",
        "    end = np.random.randint(start, min(start+max_len,len(alphabet)-1))\n",
        "    sequence_in = alphabet[start:end+1]\n",
        "    sequence_out = alphabet[end + 1]\n",
        "    dataX.append([char_to_int[char] for char in sequence_in])\n",
        "    dataY.append(char_to_int[sequence_out])\n",
        "    seq.append(sequence_in + '->'+ sequence_out)\n",
        "seq[:10]"
      ]
    },
    {
      "cell_type": "code",
      "execution_count": 29,
      "metadata": {
        "id": "5FpUTUagCFMc"
      },
      "outputs": [],
      "source": [
        "# convert list of lists to array and pad sequences if needed\n",
        "X = pad_sequences(dataX, maxlen=max_len, dtype='float32')\n",
        "# reshape X to be [samples, time steps, features]\n",
        "X = numpy.reshape(X, (X.shape[0], max_len, 1))\n"
      ]
    },
    {
      "cell_type": "code",
      "execution_count": 31,
      "metadata": {
        "colab": {
          "base_uri": "https://localhost:8080/"
        },
        "id": "lIAH-hpjCbiw",
        "outputId": "8628c218-5a1a-4ba4-fb2d-f82d8238756b"
      },
      "outputs": [
        {
          "data": {
            "text/plain": [
              "(1000, 5, 1)"
            ]
          },
          "execution_count": 31,
          "metadata": {},
          "output_type": "execute_result"
        }
      ],
      "source": [
        "X.shape"
      ]
    },
    {
      "cell_type": "code",
      "execution_count": 32,
      "metadata": {
        "id": "FhqSZ5-KDxfP"
      },
      "outputs": [],
      "source": [
        "# normalize\n",
        "X = X / float(len(alphabet))\n",
        "# one hot encode the output variable\n",
        "y = np_utils.to_categorical(dataY)"
      ]
    },
    {
      "cell_type": "code",
      "execution_count": 33,
      "metadata": {
        "colab": {
          "base_uri": "https://localhost:8080/"
        },
        "id": "VCEwo3gXEG-F",
        "outputId": "b4756e3d-e0cf-4d2c-a68c-bf0834636960"
      },
      "outputs": [
        {
          "data": {
            "text/plain": [
              "(1000, 26)"
            ]
          },
          "execution_count": 33,
          "metadata": {},
          "output_type": "execute_result"
        }
      ],
      "source": [
        "y.shape"
      ]
    },
    {
      "cell_type": "code",
      "execution_count": 40,
      "metadata": {
        "colab": {
          "base_uri": "https://localhost:8080/"
        },
        "id": "dW5V_QIjD4sL",
        "outputId": "b96ce63d-76d5-4cbc-9d62-b882380419a4"
      },
      "outputs": [
        {
          "name": "stdout",
          "output_type": "stream",
          "text": [
            "Epoch 1/150\n",
            "63/63 [==============================] - 2s 5ms/step - loss: 3.2439 - accuracy: 0.0450\n",
            "Epoch 2/150\n",
            "63/63 [==============================] - 0s 5ms/step - loss: 3.1727 - accuracy: 0.0410\n",
            "Epoch 3/150\n",
            "63/63 [==============================] - 0s 5ms/step - loss: 3.0524 - accuracy: 0.0930\n",
            "Epoch 4/150\n",
            "63/63 [==============================] - 0s 5ms/step - loss: 2.9556 - accuracy: 0.1030\n",
            "Epoch 5/150\n",
            "63/63 [==============================] - 0s 5ms/step - loss: 2.8869 - accuracy: 0.1050\n",
            "Epoch 6/150\n",
            "63/63 [==============================] - 0s 5ms/step - loss: 2.8252 - accuracy: 0.1370\n",
            "Epoch 7/150\n",
            "63/63 [==============================] - 0s 5ms/step - loss: 2.7503 - accuracy: 0.1510\n",
            "Epoch 8/150\n",
            "63/63 [==============================] - 0s 5ms/step - loss: 2.6655 - accuracy: 0.1680\n",
            "Epoch 9/150\n",
            "63/63 [==============================] - 0s 5ms/step - loss: 2.5689 - accuracy: 0.1830\n",
            "Epoch 10/150\n",
            "63/63 [==============================] - 0s 5ms/step - loss: 2.4789 - accuracy: 0.1860\n",
            "Epoch 11/150\n",
            "63/63 [==============================] - 0s 5ms/step - loss: 2.3976 - accuracy: 0.2150\n",
            "Epoch 12/150\n",
            "63/63 [==============================] - 0s 5ms/step - loss: 2.3261 - accuracy: 0.2260\n",
            "Epoch 13/150\n",
            "63/63 [==============================] - 0s 5ms/step - loss: 2.2549 - accuracy: 0.2460\n",
            "Epoch 14/150\n",
            "63/63 [==============================] - 0s 5ms/step - loss: 2.2022 - accuracy: 0.2530\n",
            "Epoch 15/150\n",
            "63/63 [==============================] - 0s 6ms/step - loss: 2.1519 - accuracy: 0.2940\n",
            "Epoch 16/150\n",
            "63/63 [==============================] - 0s 5ms/step - loss: 2.1062 - accuracy: 0.3000\n",
            "Epoch 17/150\n",
            "63/63 [==============================] - 0s 5ms/step - loss: 2.0686 - accuracy: 0.2950\n",
            "Epoch 18/150\n",
            "63/63 [==============================] - 0s 5ms/step - loss: 2.0333 - accuracy: 0.3290\n",
            "Epoch 19/150\n",
            "63/63 [==============================] - 0s 5ms/step - loss: 1.9974 - accuracy: 0.3130\n",
            "Epoch 20/150\n",
            "63/63 [==============================] - 0s 5ms/step - loss: 1.9655 - accuracy: 0.3550\n",
            "Epoch 21/150\n",
            "63/63 [==============================] - 0s 5ms/step - loss: 1.9353 - accuracy: 0.3620\n",
            "Epoch 22/150\n",
            "63/63 [==============================] - 0s 5ms/step - loss: 1.9050 - accuracy: 0.3850\n",
            "Epoch 23/150\n",
            "63/63 [==============================] - 0s 5ms/step - loss: 1.8805 - accuracy: 0.3980\n",
            "Epoch 24/150\n",
            "63/63 [==============================] - 0s 5ms/step - loss: 1.8573 - accuracy: 0.3960\n",
            "Epoch 25/150\n",
            "63/63 [==============================] - 0s 5ms/step - loss: 1.8281 - accuracy: 0.4040\n",
            "Epoch 26/150\n",
            "63/63 [==============================] - 0s 5ms/step - loss: 1.8077 - accuracy: 0.4440\n",
            "Epoch 27/150\n",
            "63/63 [==============================] - 0s 5ms/step - loss: 1.7795 - accuracy: 0.4550\n",
            "Epoch 28/150\n",
            "63/63 [==============================] - 0s 5ms/step - loss: 1.7536 - accuracy: 0.4830\n",
            "Epoch 29/150\n",
            "63/63 [==============================] - 0s 5ms/step - loss: 1.7351 - accuracy: 0.4840\n",
            "Epoch 30/150\n",
            "63/63 [==============================] - 0s 6ms/step - loss: 1.7196 - accuracy: 0.4830\n",
            "Epoch 31/150\n",
            "63/63 [==============================] - 0s 5ms/step - loss: 1.6976 - accuracy: 0.5030\n",
            "Epoch 32/150\n",
            "63/63 [==============================] - 0s 5ms/step - loss: 1.6703 - accuracy: 0.5420\n",
            "Epoch 33/150\n",
            "63/63 [==============================] - 0s 5ms/step - loss: 1.6501 - accuracy: 0.5500\n",
            "Epoch 34/150\n",
            "63/63 [==============================] - 0s 5ms/step - loss: 1.6331 - accuracy: 0.5300\n",
            "Epoch 35/150\n",
            "63/63 [==============================] - 0s 5ms/step - loss: 1.6098 - accuracy: 0.5680\n",
            "Epoch 36/150\n",
            "63/63 [==============================] - 0s 5ms/step - loss: 1.6007 - accuracy: 0.5460\n",
            "Epoch 37/150\n",
            "63/63 [==============================] - 0s 5ms/step - loss: 1.5723 - accuracy: 0.5830\n",
            "Epoch 38/150\n",
            "63/63 [==============================] - 0s 5ms/step - loss: 1.5584 - accuracy: 0.5860\n",
            "Epoch 39/150\n",
            "63/63 [==============================] - 0s 5ms/step - loss: 1.5391 - accuracy: 0.5890\n",
            "Epoch 40/150\n",
            "63/63 [==============================] - 0s 5ms/step - loss: 1.5214 - accuracy: 0.6060\n",
            "Epoch 41/150\n",
            "63/63 [==============================] - 0s 5ms/step - loss: 1.5082 - accuracy: 0.6050\n",
            "Epoch 42/150\n",
            "63/63 [==============================] - 0s 5ms/step - loss: 1.4871 - accuracy: 0.6330\n",
            "Epoch 43/150\n",
            "63/63 [==============================] - 0s 6ms/step - loss: 1.4718 - accuracy: 0.6240\n",
            "Epoch 44/150\n",
            "63/63 [==============================] - 0s 5ms/step - loss: 1.4541 - accuracy: 0.6540\n",
            "Epoch 45/150\n",
            "63/63 [==============================] - 0s 5ms/step - loss: 1.4387 - accuracy: 0.6370\n",
            "Epoch 46/150\n",
            "63/63 [==============================] - 0s 5ms/step - loss: 1.4214 - accuracy: 0.6450\n",
            "Epoch 47/150\n",
            "63/63 [==============================] - 0s 5ms/step - loss: 1.4085 - accuracy: 0.6630\n",
            "Epoch 48/150\n",
            "63/63 [==============================] - 0s 5ms/step - loss: 1.3938 - accuracy: 0.6510\n",
            "Epoch 49/150\n",
            "63/63 [==============================] - 0s 5ms/step - loss: 1.3793 - accuracy: 0.6610\n",
            "Epoch 50/150\n",
            "63/63 [==============================] - 0s 5ms/step - loss: 1.3667 - accuracy: 0.6670\n",
            "Epoch 51/150\n",
            "63/63 [==============================] - 0s 5ms/step - loss: 1.3522 - accuracy: 0.6660\n",
            "Epoch 52/150\n",
            "63/63 [==============================] - 0s 5ms/step - loss: 1.3335 - accuracy: 0.6710\n",
            "Epoch 53/150\n",
            "63/63 [==============================] - 0s 5ms/step - loss: 1.3236 - accuracy: 0.6770\n",
            "Epoch 54/150\n",
            "63/63 [==============================] - 0s 5ms/step - loss: 1.3162 - accuracy: 0.6650\n",
            "Epoch 55/150\n",
            "63/63 [==============================] - 0s 5ms/step - loss: 1.2922 - accuracy: 0.7020\n",
            "Epoch 56/150\n",
            "63/63 [==============================] - 0s 5ms/step - loss: 1.2854 - accuracy: 0.6720\n",
            "Epoch 57/150\n",
            "63/63 [==============================] - 0s 5ms/step - loss: 1.2722 - accuracy: 0.7020\n",
            "Epoch 58/150\n",
            "63/63 [==============================] - 0s 5ms/step - loss: 1.2589 - accuracy: 0.7070\n",
            "Epoch 59/150\n",
            "63/63 [==============================] - 0s 5ms/step - loss: 1.2466 - accuracy: 0.7040\n",
            "Epoch 60/150\n",
            "63/63 [==============================] - 0s 5ms/step - loss: 1.2422 - accuracy: 0.6940\n",
            "Epoch 61/150\n",
            "63/63 [==============================] - 0s 5ms/step - loss: 1.2241 - accuracy: 0.6970\n",
            "Epoch 62/150\n",
            "63/63 [==============================] - 0s 5ms/step - loss: 1.2120 - accuracy: 0.7100\n",
            "Epoch 63/150\n",
            "63/63 [==============================] - 0s 5ms/step - loss: 1.2014 - accuracy: 0.7150\n",
            "Epoch 64/150\n",
            "63/63 [==============================] - 0s 6ms/step - loss: 1.1902 - accuracy: 0.7160\n",
            "Epoch 65/150\n",
            "63/63 [==============================] - 0s 5ms/step - loss: 1.1780 - accuracy: 0.7100\n",
            "Epoch 66/150\n",
            "63/63 [==============================] - 0s 5ms/step - loss: 1.1652 - accuracy: 0.7050\n",
            "Epoch 67/150\n",
            "63/63 [==============================] - 0s 5ms/step - loss: 1.1570 - accuracy: 0.7200\n",
            "Epoch 68/150\n",
            "63/63 [==============================] - 0s 6ms/step - loss: 1.1489 - accuracy: 0.7120\n",
            "Epoch 69/150\n",
            "63/63 [==============================] - 0s 5ms/step - loss: 1.1414 - accuracy: 0.7200\n",
            "Epoch 70/150\n",
            "63/63 [==============================] - 0s 5ms/step - loss: 1.1258 - accuracy: 0.7270\n",
            "Epoch 71/150\n",
            "63/63 [==============================] - 0s 5ms/step - loss: 1.1178 - accuracy: 0.7130\n",
            "Epoch 72/150\n",
            "63/63 [==============================] - 0s 5ms/step - loss: 1.1095 - accuracy: 0.7400\n",
            "Epoch 73/150\n",
            "63/63 [==============================] - 0s 5ms/step - loss: 1.1005 - accuracy: 0.7230\n",
            "Epoch 74/150\n",
            "63/63 [==============================] - 0s 5ms/step - loss: 1.0884 - accuracy: 0.7400\n",
            "Epoch 75/150\n",
            "63/63 [==============================] - 0s 5ms/step - loss: 1.0787 - accuracy: 0.7460\n",
            "Epoch 76/150\n",
            "63/63 [==============================] - 0s 5ms/step - loss: 1.0674 - accuracy: 0.7370\n",
            "Epoch 77/150\n",
            "63/63 [==============================] - 0s 6ms/step - loss: 1.0587 - accuracy: 0.7390\n",
            "Epoch 78/150\n",
            "63/63 [==============================] - 0s 5ms/step - loss: 1.0492 - accuracy: 0.7430\n",
            "Epoch 79/150\n",
            "63/63 [==============================] - 0s 5ms/step - loss: 1.0404 - accuracy: 0.7590\n",
            "Epoch 80/150\n",
            "63/63 [==============================] - 0s 5ms/step - loss: 1.0317 - accuracy: 0.7460\n",
            "Epoch 81/150\n",
            "63/63 [==============================] - 0s 6ms/step - loss: 1.0245 - accuracy: 0.7470\n",
            "Epoch 82/150\n",
            "63/63 [==============================] - 0s 5ms/step - loss: 1.0146 - accuracy: 0.7530\n",
            "Epoch 83/150\n",
            "63/63 [==============================] - 0s 5ms/step - loss: 1.0057 - accuracy: 0.7620\n",
            "Epoch 84/150\n",
            "63/63 [==============================] - 0s 5ms/step - loss: 1.0009 - accuracy: 0.7580\n",
            "Epoch 85/150\n",
            "63/63 [==============================] - 0s 5ms/step - loss: 0.9914 - accuracy: 0.7450\n",
            "Epoch 86/150\n",
            "63/63 [==============================] - 0s 5ms/step - loss: 0.9817 - accuracy: 0.7740\n",
            "Epoch 87/150\n",
            "63/63 [==============================] - 0s 5ms/step - loss: 0.9766 - accuracy: 0.7460\n",
            "Epoch 88/150\n",
            "63/63 [==============================] - 0s 5ms/step - loss: 0.9745 - accuracy: 0.7520\n",
            "Epoch 89/150\n",
            "63/63 [==============================] - 0s 5ms/step - loss: 0.9616 - accuracy: 0.7710\n",
            "Epoch 90/150\n",
            "63/63 [==============================] - 0s 6ms/step - loss: 0.9536 - accuracy: 0.7680\n",
            "Epoch 91/150\n",
            "63/63 [==============================] - 0s 6ms/step - loss: 0.9490 - accuracy: 0.7690\n",
            "Epoch 92/150\n",
            "63/63 [==============================] - 0s 5ms/step - loss: 0.9388 - accuracy: 0.7620\n",
            "Epoch 93/150\n",
            "63/63 [==============================] - 0s 5ms/step - loss: 0.9301 - accuracy: 0.7610\n",
            "Epoch 94/150\n",
            "63/63 [==============================] - 0s 5ms/step - loss: 0.9264 - accuracy: 0.7750\n",
            "Epoch 95/150\n",
            "63/63 [==============================] - 0s 6ms/step - loss: 0.9149 - accuracy: 0.7770\n",
            "Epoch 96/150\n",
            "63/63 [==============================] - 0s 5ms/step - loss: 0.9093 - accuracy: 0.7810\n",
            "Epoch 97/150\n",
            "63/63 [==============================] - 0s 5ms/step - loss: 0.9127 - accuracy: 0.7710\n",
            "Epoch 98/150\n",
            "63/63 [==============================] - 0s 5ms/step - loss: 0.8995 - accuracy: 0.7780\n",
            "Epoch 99/150\n",
            "63/63 [==============================] - 0s 5ms/step - loss: 0.8967 - accuracy: 0.7600\n",
            "Epoch 100/150\n",
            "63/63 [==============================] - 0s 5ms/step - loss: 0.8870 - accuracy: 0.7800\n",
            "Epoch 101/150\n",
            "63/63 [==============================] - 0s 5ms/step - loss: 0.8804 - accuracy: 0.7810\n",
            "Epoch 102/150\n",
            "63/63 [==============================] - 0s 5ms/step - loss: 0.8774 - accuracy: 0.7880\n",
            "Epoch 103/150\n",
            "63/63 [==============================] - 0s 5ms/step - loss: 0.8653 - accuracy: 0.7910\n",
            "Epoch 104/150\n",
            "63/63 [==============================] - 0s 5ms/step - loss: 0.8593 - accuracy: 0.7890\n",
            "Epoch 105/150\n",
            "63/63 [==============================] - 0s 5ms/step - loss: 0.8518 - accuracy: 0.7960\n",
            "Epoch 106/150\n",
            "63/63 [==============================] - 0s 5ms/step - loss: 0.8483 - accuracy: 0.7830\n",
            "Epoch 107/150\n",
            "63/63 [==============================] - 0s 5ms/step - loss: 0.8402 - accuracy: 0.7870\n",
            "Epoch 108/150\n",
            "63/63 [==============================] - 0s 5ms/step - loss: 0.8355 - accuracy: 0.7790\n",
            "Epoch 109/150\n",
            "63/63 [==============================] - 0s 5ms/step - loss: 0.8388 - accuracy: 0.7790\n",
            "Epoch 110/150\n",
            "63/63 [==============================] - 0s 5ms/step - loss: 0.8254 - accuracy: 0.7900\n",
            "Epoch 111/150\n",
            "63/63 [==============================] - 0s 5ms/step - loss: 0.8214 - accuracy: 0.7960\n",
            "Epoch 112/150\n",
            "63/63 [==============================] - 0s 5ms/step - loss: 0.8137 - accuracy: 0.7960\n",
            "Epoch 113/150\n",
            "63/63 [==============================] - 0s 5ms/step - loss: 0.8087 - accuracy: 0.7930\n",
            "Epoch 114/150\n",
            "63/63 [==============================] - 0s 5ms/step - loss: 0.8003 - accuracy: 0.7950\n",
            "Epoch 115/150\n",
            "63/63 [==============================] - 0s 5ms/step - loss: 0.8071 - accuracy: 0.7750\n",
            "Epoch 116/150\n",
            "63/63 [==============================] - 0s 5ms/step - loss: 0.8069 - accuracy: 0.7800\n",
            "Epoch 117/150\n",
            "63/63 [==============================] - 0s 5ms/step - loss: 0.7898 - accuracy: 0.7980\n",
            "Epoch 118/150\n",
            "63/63 [==============================] - 0s 5ms/step - loss: 0.7855 - accuracy: 0.7910\n",
            "Epoch 119/150\n",
            "63/63 [==============================] - 0s 5ms/step - loss: 0.7785 - accuracy: 0.8110\n",
            "Epoch 120/150\n",
            "63/63 [==============================] - 0s 5ms/step - loss: 0.7757 - accuracy: 0.7910\n",
            "Epoch 121/150\n",
            "63/63 [==============================] - 0s 5ms/step - loss: 0.7686 - accuracy: 0.8050\n",
            "Epoch 122/150\n",
            "63/63 [==============================] - 0s 5ms/step - loss: 0.7612 - accuracy: 0.8090\n",
            "Epoch 123/150\n",
            "63/63 [==============================] - 0s 5ms/step - loss: 0.7617 - accuracy: 0.7910\n",
            "Epoch 124/150\n",
            "63/63 [==============================] - 0s 5ms/step - loss: 0.7569 - accuracy: 0.7930\n",
            "Epoch 125/150\n",
            "63/63 [==============================] - 0s 6ms/step - loss: 0.7524 - accuracy: 0.8080\n",
            "Epoch 126/150\n",
            "63/63 [==============================] - 0s 5ms/step - loss: 0.7467 - accuracy: 0.8010\n",
            "Epoch 127/150\n",
            "63/63 [==============================] - 0s 5ms/step - loss: 0.7432 - accuracy: 0.7940\n",
            "Epoch 128/150\n",
            "63/63 [==============================] - 0s 5ms/step - loss: 0.7361 - accuracy: 0.7990\n",
            "Epoch 129/150\n",
            "63/63 [==============================] - 0s 5ms/step - loss: 0.7295 - accuracy: 0.8110\n",
            "Epoch 130/150\n",
            "63/63 [==============================] - 0s 5ms/step - loss: 0.7241 - accuracy: 0.8150\n",
            "Epoch 131/150\n",
            "63/63 [==============================] - 0s 5ms/step - loss: 0.7228 - accuracy: 0.8050\n",
            "Epoch 132/150\n",
            "63/63 [==============================] - 0s 5ms/step - loss: 0.7247 - accuracy: 0.8100\n",
            "Epoch 133/150\n",
            "63/63 [==============================] - 0s 5ms/step - loss: 0.7144 - accuracy: 0.8040\n",
            "Epoch 134/150\n",
            "63/63 [==============================] - 0s 5ms/step - loss: 0.7125 - accuracy: 0.8120\n",
            "Epoch 135/150\n",
            "63/63 [==============================] - 0s 5ms/step - loss: 0.7073 - accuracy: 0.8030\n",
            "Epoch 136/150\n",
            "63/63 [==============================] - 0s 5ms/step - loss: 0.7006 - accuracy: 0.8070\n",
            "Epoch 137/150\n",
            "63/63 [==============================] - 0s 6ms/step - loss: 0.7018 - accuracy: 0.8040\n",
            "Epoch 138/150\n",
            "63/63 [==============================] - 0s 5ms/step - loss: 0.6992 - accuracy: 0.8090\n",
            "Epoch 139/150\n",
            "63/63 [==============================] - 0s 5ms/step - loss: 0.6900 - accuracy: 0.8230\n",
            "Epoch 140/150\n",
            "63/63 [==============================] - 0s 5ms/step - loss: 0.6892 - accuracy: 0.8140\n",
            "Epoch 141/150\n",
            "63/63 [==============================] - 0s 5ms/step - loss: 0.6853 - accuracy: 0.8130\n",
            "Epoch 142/150\n",
            "63/63 [==============================] - 0s 5ms/step - loss: 0.6777 - accuracy: 0.8170\n",
            "Epoch 143/150\n",
            "63/63 [==============================] - 0s 5ms/step - loss: 0.6829 - accuracy: 0.8190\n",
            "Epoch 144/150\n",
            "63/63 [==============================] - 0s 5ms/step - loss: 0.6714 - accuracy: 0.8060\n",
            "Epoch 145/150\n",
            "63/63 [==============================] - 0s 5ms/step - loss: 0.6795 - accuracy: 0.8260\n",
            "Epoch 146/150\n",
            "63/63 [==============================] - 0s 5ms/step - loss: 0.6662 - accuracy: 0.8180\n",
            "Epoch 147/150\n",
            "63/63 [==============================] - 0s 5ms/step - loss: 0.6617 - accuracy: 0.8250\n",
            "Epoch 148/150\n",
            "63/63 [==============================] - 0s 5ms/step - loss: 0.6570 - accuracy: 0.8130\n",
            "Epoch 149/150\n",
            "63/63 [==============================] - 0s 5ms/step - loss: 0.6527 - accuracy: 0.8260\n",
            "Epoch 150/150\n",
            "63/63 [==============================] - 0s 5ms/step - loss: 0.6504 - accuracy: 0.8180\n"
          ]
        }
      ],
      "source": [
        "# Model creation\n",
        "batch_size = 16\n",
        "model = Sequential()\n",
        "model.add(LSTM(32, input_shape=(X.shape[1], 1)))\n",
        "model.add(Dense(y.shape[1], activation='softmax'))\n",
        "model.compile(loss='categorical_crossentropy', optimizer='adam', metrics=['accuracy'])\n",
        "history=model.fit(X, y, epochs=150, batch_size=batch_size, verbose=1)"
      ]
    },
    {
      "cell_type": "code",
      "execution_count": 39,
      "metadata": {
        "colab": {
          "base_uri": "https://localhost:8080/"
        },
        "id": "hE4RSCCKFTbH",
        "outputId": "d8a80ea6-993e-45f9-f0c1-5e8288ab0bd2"
      },
      "outputs": [
        {
          "data": {
            "text/plain": [
              "dict_keys(['loss', 'accuracy'])"
            ]
          },
          "execution_count": 39,
          "metadata": {},
          "output_type": "execute_result"
        }
      ],
      "source": [
        "model.history.history.keys()"
      ]
    },
    {
      "cell_type": "code",
      "execution_count": 45,
      "metadata": {
        "colab": {
          "base_uri": "https://localhost:8080/",
          "height": 312
        },
        "id": "AxXy2kNuEMDo",
        "outputId": "0e69d3ae-f1f3-4430-a1ca-cc23e72c99e5"
      },
      "outputs": [
        {
          "name": "stdout",
          "output_type": "stream",
          "text": [
            "dict_keys(['loss', 'accuracy'])\n"
          ]
        },
        {
          "data": {
            "image/png": "[encoded data removed]",
            "text/plain": [
              "<Figure size 432x288 with 1 Axes>"
            ]
          },
          "metadata": {
            "needs_background": "light"
          },
          "output_type": "display_data"
        }
      ],
      "source": [
        "import matplotlib.pyplot as plt\n",
        "# list all data in history\n",
        "print(history.history.keys())\n",
        "# accuracy plot\n",
        "plt.plot(history.history['accuracy'])\n",
        "plt.title('model accuracy')\n",
        "plt.ylabel('accuracy')\n",
        "plt.xlabel('epoch')\n",
        "plt.show()"
      ]
    },
    {
      "cell_type": "code",
      "execution_count": 44,
      "metadata": {
        "colab": {
          "base_uri": "https://localhost:8080/",
          "height": 295
        },
        "id": "uZhLna8TFRVr",
        "outputId": "e79259d7-c3d3-4097-a150-4f1c6679cbef"
      },
      "outputs": [
        {
          "data": {
            "image/png": "[encoded data removed]",
            "text/plain": [
              "<Figure size 432x288 with 1 Axes>"
            ]
          },
          "metadata": {
            "needs_background": "light"
          },
          "output_type": "display_data"
        }
      ],
      "source": [
        "# Loss plot\n",
        "plt.plot(history.history['loss'])\n",
        "plt.title('model loss')\n",
        "plt.ylabel('loss')\n",
        "plt.xlabel('epoch')\n",
        "plt.show()"
      ]
    },
    {
      "cell_type": "code",
      "execution_count": 49,
      "metadata": {
        "colab": {
          "base_uri": "https://localhost:8080/"
        },
        "id": "QOEl3-86GVqs",
        "outputId": "988e3583-114b-408f-ed00-02a800b087f6"
      },
      "outputs": [
        {
          "name": "stdout",
          "output_type": "stream",
          "text": [
            "['V'] -> X\n",
            "['O', 'P'] -> Q\n",
            "['F', 'G'] -> H\n",
            "['E'] -> D\n",
            "['T', 'U', 'V'] -> W\n"
          ]
        }
      ],
      "source": [
        "# demonstrate predictions\n",
        "for i in range(5):\n",
        "    pattern_index = numpy.random.randint(len(dataX))\n",
        "    pattern = dataX[pattern_index]\n",
        "    x = pad_sequences([pattern], maxlen=max_len, dtype='float32')\n",
        "    x = numpy.reshape(x, (1, max_len, 1))\n",
        "    x = x / float(len(alphabet))\n",
        "    prediction = model.predict(x, verbose=0)\n",
        "    index = numpy.argmax(prediction)\n",
        "    result = int_to_char[index]\n",
        "    seq_in = [int_to_char[value] for value in pattern]\n",
        "    print(seq_in, \"->\", result)"
      ]
    },
    {
      "cell_type": "markdown",
      "metadata": {
        "id": "iF8bgijCG_BI"
      },
      "source": [
        "### Conclusion\n",
        "Model accuracy can be increase by increasing the epochs"
      ]
    },
    {
      "cell_type": "code",
      "execution_count": null,
      "metadata": {
        "id": "_oWamEuQGscR"
      },
      "outputs": [],
      "source": []
    }
  ],
  "metadata": {
    "colab": {
      "collapsed_sections": [],
      "name": "predicting_next_char_lstm.ipynb",
      "provenance": []
    },
    "kernelspec": {
      "display_name": "Python 3",
      "name": "python3"
    },
    "language_info": {
      "name": "python"
    }
  },
  "nbformat": 4,
  "nbformat_minor": 0
}
